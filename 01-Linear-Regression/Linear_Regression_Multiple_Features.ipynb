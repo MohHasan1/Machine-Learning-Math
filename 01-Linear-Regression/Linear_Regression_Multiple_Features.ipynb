{
  "nbformat": 4,
  "nbformat_minor": 0,
  "metadata": {
    "colab": {
      "provenance": [],
      "authorship_tag": "ABX9TyMbqVDKJM7PtLjJmOR8WN3e",
      "include_colab_link": true
    },
    "kernelspec": {
      "name": "python3",
      "display_name": "Python 3"
    },
    "language_info": {
      "name": "python"
    }
  },
  "cells": [
    {
      "cell_type": "markdown",
      "metadata": {
        "id": "view-in-github",
        "colab_type": "text"
      },
      "source": [
        "<a href=\"https://colab.research.google.com/github/MohHasan1/Machine-Learning-Math/blob/main/01-Linear-Regression/Linear_Regression_Multiple_Features.ipynb\" target=\"_parent\"><img src=\"https://colab.research.google.com/assets/colab-badge.svg\" alt=\"Open In Colab\"/></a>"
      ]
    },
    {
      "cell_type": "code",
      "execution_count": 2,
      "metadata": {
        "id": "Qd99dOgAKGaE"
      },
      "outputs": [],
      "source": [
        "import numpy as np\n",
        "import pandas as pd\n",
        "from sklearn.model_selection import train_test_split\n",
        "import matplotlib.pyplot as plt\n",
        "plt.style.use('ggplot')"
      ]
    },
    {
      "cell_type": "code",
      "source": [
        "# Generate Data\n",
        "from sklearn.datasets import make_regression\n",
        "\n",
        "X,y = make_regression(n_samples=500, n_features=10, n_informative=5, noise=2, random_state=0)\n",
        "print(X.shape, y.shape)\n",
        "n_features = X.shape[1]"
      ],
      "metadata": {
        "colab": {
          "base_uri": "https://localhost:8080/"
        },
        "id": "DRL9Q-Jvd6s2",
        "outputId": "7befb95e-3dd1-4a9e-dbda-c5d78e12fa62"
      },
      "execution_count": 20,
      "outputs": [
        {
          "output_type": "stream",
          "name": "stdout",
          "text": [
            "(500, 10) (500,)\n"
          ]
        }
      ]
    },
    {
      "cell_type": "code",
      "source": [
        "pd.DataFrame(X).head(2)"
      ],
      "metadata": {
        "colab": {
          "base_uri": "https://localhost:8080/",
          "height": 112
        },
        "id": "FCQFc8aNd6oF",
        "outputId": "2242b275-cebd-468b-b3aa-2435802ac8df"
      },
      "execution_count": 21,
      "outputs": [
        {
          "output_type": "execute_result",
          "data": {
            "text/plain": [
              "          0         1         2         3         4         5         6  \\\n",
              "0  1.706468  1.511639 -0.000417  0.374155  0.073285  0.701783  0.409552   \n",
              "1 -1.616956  0.640132 -0.369182 -0.239379 -0.738031 -0.024326  1.099660   \n",
              "\n",
              "          7        8         9  \n",
              "0 -0.461894 -0.62649 -0.799593  \n",
              "1  0.279925 -0.09815  0.655264  "
            ],
            "text/html": [
              "\n",
              "  <div id=\"df-0daa1129-04b3-4524-9906-6dad38a88740\" class=\"colab-df-container\">\n",
              "    <div>\n",
              "<style scoped>\n",
              "    .dataframe tbody tr th:only-of-type {\n",
              "        vertical-align: middle;\n",
              "    }\n",
              "\n",
              "    .dataframe tbody tr th {\n",
              "        vertical-align: top;\n",
              "    }\n",
              "\n",
              "    .dataframe thead th {\n",
              "        text-align: right;\n",
              "    }\n",
              "</style>\n",
              "<table border=\"1\" class=\"dataframe\">\n",
              "  <thead>\n",
              "    <tr style=\"text-align: right;\">\n",
              "      <th></th>\n",
              "      <th>0</th>\n",
              "      <th>1</th>\n",
              "      <th>2</th>\n",
              "      <th>3</th>\n",
              "      <th>4</th>\n",
              "      <th>5</th>\n",
              "      <th>6</th>\n",
              "      <th>7</th>\n",
              "      <th>8</th>\n",
              "      <th>9</th>\n",
              "    </tr>\n",
              "  </thead>\n",
              "  <tbody>\n",
              "    <tr>\n",
              "      <th>0</th>\n",
              "      <td>1.706468</td>\n",
              "      <td>1.511639</td>\n",
              "      <td>-0.000417</td>\n",
              "      <td>0.374155</td>\n",
              "      <td>0.073285</td>\n",
              "      <td>0.701783</td>\n",
              "      <td>0.409552</td>\n",
              "      <td>-0.461894</td>\n",
              "      <td>-0.62649</td>\n",
              "      <td>-0.799593</td>\n",
              "    </tr>\n",
              "    <tr>\n",
              "      <th>1</th>\n",
              "      <td>-1.616956</td>\n",
              "      <td>0.640132</td>\n",
              "      <td>-0.369182</td>\n",
              "      <td>-0.239379</td>\n",
              "      <td>-0.738031</td>\n",
              "      <td>-0.024326</td>\n",
              "      <td>1.099660</td>\n",
              "      <td>0.279925</td>\n",
              "      <td>-0.09815</td>\n",
              "      <td>0.655264</td>\n",
              "    </tr>\n",
              "  </tbody>\n",
              "</table>\n",
              "</div>\n",
              "    <div class=\"colab-df-buttons\">\n",
              "\n",
              "  <div class=\"colab-df-container\">\n",
              "    <button class=\"colab-df-convert\" onclick=\"convertToInteractive('df-0daa1129-04b3-4524-9906-6dad38a88740')\"\n",
              "            title=\"Convert this dataframe to an interactive table.\"\n",
              "            style=\"display:none;\">\n",
              "\n",
              "  <svg xmlns=\"http://www.w3.org/2000/svg\" height=\"24px\" viewBox=\"0 -960 960 960\">\n",
              "    <path d=\"M120-120v-720h720v720H120Zm60-500h600v-160H180v160Zm220 220h160v-160H400v160Zm0 220h160v-160H400v160ZM180-400h160v-160H180v160Zm440 0h160v-160H620v160ZM180-180h160v-160H180v160Zm440 0h160v-160H620v160Z\"/>\n",
              "  </svg>\n",
              "    </button>\n",
              "\n",
              "  <style>\n",
              "    .colab-df-container {\n",
              "      display:flex;\n",
              "      gap: 12px;\n",
              "    }\n",
              "\n",
              "    .colab-df-convert {\n",
              "      background-color: #E8F0FE;\n",
              "      border: none;\n",
              "      border-radius: 50%;\n",
              "      cursor: pointer;\n",
              "      display: none;\n",
              "      fill: #1967D2;\n",
              "      height: 32px;\n",
              "      padding: 0 0 0 0;\n",
              "      width: 32px;\n",
              "    }\n",
              "\n",
              "    .colab-df-convert:hover {\n",
              "      background-color: #E2EBFA;\n",
              "      box-shadow: 0px 1px 2px rgba(60, 64, 67, 0.3), 0px 1px 3px 1px rgba(60, 64, 67, 0.15);\n",
              "      fill: #174EA6;\n",
              "    }\n",
              "\n",
              "    .colab-df-buttons div {\n",
              "      margin-bottom: 4px;\n",
              "    }\n",
              "\n",
              "    [theme=dark] .colab-df-convert {\n",
              "      background-color: #3B4455;\n",
              "      fill: #D2E3FC;\n",
              "    }\n",
              "\n",
              "    [theme=dark] .colab-df-convert:hover {\n",
              "      background-color: #434B5C;\n",
              "      box-shadow: 0px 1px 3px 1px rgba(0, 0, 0, 0.15);\n",
              "      filter: drop-shadow(0px 1px 2px rgba(0, 0, 0, 0.3));\n",
              "      fill: #FFFFFF;\n",
              "    }\n",
              "  </style>\n",
              "\n",
              "    <script>\n",
              "      const buttonEl =\n",
              "        document.querySelector('#df-0daa1129-04b3-4524-9906-6dad38a88740 button.colab-df-convert');\n",
              "      buttonEl.style.display =\n",
              "        google.colab.kernel.accessAllowed ? 'block' : 'none';\n",
              "\n",
              "      async function convertToInteractive(key) {\n",
              "        const element = document.querySelector('#df-0daa1129-04b3-4524-9906-6dad38a88740');\n",
              "        const dataTable =\n",
              "          await google.colab.kernel.invokeFunction('convertToInteractive',\n",
              "                                                    [key], {});\n",
              "        if (!dataTable) return;\n",
              "\n",
              "        const docLinkHtml = 'Like what you see? Visit the ' +\n",
              "          '<a target=\"_blank\" href=https://colab.research.google.com/notebooks/data_table.ipynb>data table notebook</a>'\n",
              "          + ' to learn more about interactive tables.';\n",
              "        element.innerHTML = '';\n",
              "        dataTable['output_type'] = 'display_data';\n",
              "        await google.colab.output.renderOutput(dataTable, element);\n",
              "        const docLink = document.createElement('div');\n",
              "        docLink.innerHTML = docLinkHtml;\n",
              "        element.appendChild(docLink);\n",
              "      }\n",
              "    </script>\n",
              "  </div>\n",
              "\n",
              "\n",
              "<div id=\"df-43370578-43c0-4da5-ba6f-d0f1fabdc649\">\n",
              "  <button class=\"colab-df-quickchart\" onclick=\"quickchart('df-43370578-43c0-4da5-ba6f-d0f1fabdc649')\"\n",
              "            title=\"Suggest charts\"\n",
              "            style=\"display:none;\">\n",
              "\n",
              "<svg xmlns=\"http://www.w3.org/2000/svg\" height=\"24px\"viewBox=\"0 0 24 24\"\n",
              "     width=\"24px\">\n",
              "    <g>\n",
              "        <path d=\"M19 3H5c-1.1 0-2 .9-2 2v14c0 1.1.9 2 2 2h14c1.1 0 2-.9 2-2V5c0-1.1-.9-2-2-2zM9 17H7v-7h2v7zm4 0h-2V7h2v10zm4 0h-2v-4h2v4z\"/>\n",
              "    </g>\n",
              "</svg>\n",
              "  </button>\n",
              "\n",
              "<style>\n",
              "  .colab-df-quickchart {\n",
              "      --bg-color: #E8F0FE;\n",
              "      --fill-color: #1967D2;\n",
              "      --hover-bg-color: #E2EBFA;\n",
              "      --hover-fill-color: #174EA6;\n",
              "      --disabled-fill-color: #AAA;\n",
              "      --disabled-bg-color: #DDD;\n",
              "  }\n",
              "\n",
              "  [theme=dark] .colab-df-quickchart {\n",
              "      --bg-color: #3B4455;\n",
              "      --fill-color: #D2E3FC;\n",
              "      --hover-bg-color: #434B5C;\n",
              "      --hover-fill-color: #FFFFFF;\n",
              "      --disabled-bg-color: #3B4455;\n",
              "      --disabled-fill-color: #666;\n",
              "  }\n",
              "\n",
              "  .colab-df-quickchart {\n",
              "    background-color: var(--bg-color);\n",
              "    border: none;\n",
              "    border-radius: 50%;\n",
              "    cursor: pointer;\n",
              "    display: none;\n",
              "    fill: var(--fill-color);\n",
              "    height: 32px;\n",
              "    padding: 0;\n",
              "    width: 32px;\n",
              "  }\n",
              "\n",
              "  .colab-df-quickchart:hover {\n",
              "    background-color: var(--hover-bg-color);\n",
              "    box-shadow: 0 1px 2px rgba(60, 64, 67, 0.3), 0 1px 3px 1px rgba(60, 64, 67, 0.15);\n",
              "    fill: var(--button-hover-fill-color);\n",
              "  }\n",
              "\n",
              "  .colab-df-quickchart-complete:disabled,\n",
              "  .colab-df-quickchart-complete:disabled:hover {\n",
              "    background-color: var(--disabled-bg-color);\n",
              "    fill: var(--disabled-fill-color);\n",
              "    box-shadow: none;\n",
              "  }\n",
              "\n",
              "  .colab-df-spinner {\n",
              "    border: 2px solid var(--fill-color);\n",
              "    border-color: transparent;\n",
              "    border-bottom-color: var(--fill-color);\n",
              "    animation:\n",
              "      spin 1s steps(1) infinite;\n",
              "  }\n",
              "\n",
              "  @keyframes spin {\n",
              "    0% {\n",
              "      border-color: transparent;\n",
              "      border-bottom-color: var(--fill-color);\n",
              "      border-left-color: var(--fill-color);\n",
              "    }\n",
              "    20% {\n",
              "      border-color: transparent;\n",
              "      border-left-color: var(--fill-color);\n",
              "      border-top-color: var(--fill-color);\n",
              "    }\n",
              "    30% {\n",
              "      border-color: transparent;\n",
              "      border-left-color: var(--fill-color);\n",
              "      border-top-color: var(--fill-color);\n",
              "      border-right-color: var(--fill-color);\n",
              "    }\n",
              "    40% {\n",
              "      border-color: transparent;\n",
              "      border-right-color: var(--fill-color);\n",
              "      border-top-color: var(--fill-color);\n",
              "    }\n",
              "    60% {\n",
              "      border-color: transparent;\n",
              "      border-right-color: var(--fill-color);\n",
              "    }\n",
              "    80% {\n",
              "      border-color: transparent;\n",
              "      border-right-color: var(--fill-color);\n",
              "      border-bottom-color: var(--fill-color);\n",
              "    }\n",
              "    90% {\n",
              "      border-color: transparent;\n",
              "      border-bottom-color: var(--fill-color);\n",
              "    }\n",
              "  }\n",
              "</style>\n",
              "\n",
              "  <script>\n",
              "    async function quickchart(key) {\n",
              "      const quickchartButtonEl =\n",
              "        document.querySelector('#' + key + ' button');\n",
              "      quickchartButtonEl.disabled = true;  // To prevent multiple clicks.\n",
              "      quickchartButtonEl.classList.add('colab-df-spinner');\n",
              "      try {\n",
              "        const charts = await google.colab.kernel.invokeFunction(\n",
              "            'suggestCharts', [key], {});\n",
              "      } catch (error) {\n",
              "        console.error('Error during call to suggestCharts:', error);\n",
              "      }\n",
              "      quickchartButtonEl.classList.remove('colab-df-spinner');\n",
              "      quickchartButtonEl.classList.add('colab-df-quickchart-complete');\n",
              "    }\n",
              "    (() => {\n",
              "      let quickchartButtonEl =\n",
              "        document.querySelector('#df-43370578-43c0-4da5-ba6f-d0f1fabdc649 button');\n",
              "      quickchartButtonEl.style.display =\n",
              "        google.colab.kernel.accessAllowed ? 'block' : 'none';\n",
              "    })();\n",
              "  </script>\n",
              "</div>\n",
              "\n",
              "    </div>\n",
              "  </div>\n"
            ],
            "application/vnd.google.colaboratory.intrinsic+json": {
              "type": "dataframe",
              "summary": "{\n  \"name\": \"pd\",\n  \"rows\": 2,\n  \"fields\": [\n    {\n      \"column\": 0,\n      \"properties\": {\n        \"dtype\": \"number\",\n        \"std\": 2.350015853330534,\n        \"min\": -1.6169560443108344,\n        \"max\": 1.706468247260989,\n        \"num_unique_values\": 2,\n        \"samples\": [\n          -1.6169560443108344,\n          1.706468247260989\n        ],\n        \"semantic_type\": \"\",\n        \"description\": \"\"\n      }\n    },\n    {\n      \"column\": 1,\n      \"properties\": {\n        \"dtype\": \"number\",\n        \"std\": 0.6162490920567248,\n        \"min\": 0.640131526097592,\n        \"max\": 1.5116393498843184,\n        \"num_unique_values\": 2,\n        \"samples\": [\n          0.640131526097592,\n          1.5116393498843184\n        ],\n        \"semantic_type\": \"\",\n        \"description\": \"\"\n      }\n    },\n    {\n      \"column\": 2,\n      \"properties\": {\n        \"dtype\": \"number\",\n        \"std\": 0.26075588676368294,\n        \"min\": -0.3691818379424436,\n        \"max\": -0.00041732641262016675,\n        \"num_unique_values\": 2,\n        \"samples\": [\n          -0.3691818379424436,\n          -0.00041732641262016675\n        ],\n        \"semantic_type\": \"\",\n        \"description\": \"\"\n      }\n    },\n    {\n      \"column\": 3,\n      \"properties\": {\n        \"dtype\": \"number\",\n        \"std\": 0.43383423824418643,\n        \"min\": -0.2393791775759264,\n        \"max\": 0.37415508597080255,\n        \"num_unique_values\": 2,\n        \"samples\": [\n          -0.2393791775759264,\n          0.37415508597080255\n        ],\n        \"semantic_type\": \"\",\n        \"description\": \"\"\n      }\n    },\n    {\n      \"column\": 4,\n      \"properties\": {\n        \"dtype\": \"number\",\n        \"std\": 0.5736872865594074,\n        \"min\": -0.7380309092056887,\n        \"max\": 0.07328543200764547,\n        \"num_unique_values\": 2,\n        \"samples\": [\n          -0.7380309092056887,\n          0.07328543200764547\n        ],\n        \"semantic_type\": \"\",\n        \"description\": \"\"\n      }\n    },\n    {\n      \"column\": 5,\n      \"properties\": {\n        \"dtype\": \"number\",\n        \"std\": 0.5134369488703884,\n        \"min\": -0.024326124398935636,\n        \"max\": 0.701783372117029,\n        \"num_unique_values\": 2,\n        \"samples\": [\n          -0.024326124398935636,\n          0.701783372117029\n        ],\n        \"semantic_type\": \"\",\n        \"description\": \"\"\n      }\n    },\n    {\n      \"column\": 6,\n      \"properties\": {\n        \"dtype\": \"number\",\n        \"std\": 0.48797991760975556,\n        \"min\": 0.40955177823769134,\n        \"max\": 1.0996595958871132,\n        \"num_unique_values\": 2,\n        \"samples\": [\n          1.0996595958871132,\n          0.40955177823769134\n        ],\n        \"semantic_type\": \"\",\n        \"description\": \"\"\n      }\n    },\n    {\n      \"column\": 7,\n      \"properties\": {\n        \"dtype\": \"number\",\n        \"std\": 0.5245448312295408,\n        \"min\": -0.46189381535428464,\n        \"max\": 0.27992459904323824,\n        \"num_unique_values\": 2,\n        \"samples\": [\n          0.27992459904323824,\n          -0.46189381535428464\n        ],\n        \"semantic_type\": \"\",\n        \"description\": \"\"\n      }\n    },\n    {\n      \"column\": 8,\n      \"properties\": {\n        \"dtype\": \"number\",\n        \"std\": 0.3735926790431557,\n        \"min\": -0.6264902231490875,\n        \"max\": -0.09815038964295794,\n        \"num_unique_values\": 2,\n        \"samples\": [\n          -0.09815038964295794,\n          -0.6264902231490875\n        ],\n        \"semantic_type\": \"\",\n        \"description\": \"\"\n      }\n    },\n    {\n      \"column\": 9,\n      \"properties\": {\n        \"dtype\": \"number\",\n        \"std\": 1.0287394132692316,\n        \"min\": -0.7995934996704901,\n        \"max\": 0.6552637307225978,\n        \"num_unique_values\": 2,\n        \"samples\": [\n          0.6552637307225978,\n          -0.7995934996704901\n        ],\n        \"semantic_type\": \"\",\n        \"description\": \"\"\n      }\n    }\n  ]\n}"
            }
          },
          "metadata": {},
          "execution_count": 21
        }
      ]
    },
    {
      "cell_type": "code",
      "source": [
        "# Normalize (columns)\n",
        "def normalize(X):\n",
        "    u = X.mean(axis=0)\n",
        "    std = X.std(axis=0)\n",
        "\n",
        "    return (X-u)/std"
      ],
      "metadata": {
        "id": "cv9paFJvd6ll"
      },
      "execution_count": 22,
      "outputs": []
    },
    {
      "cell_type": "code",
      "source": [
        "X = normalize(X)\n",
        "pd.DataFrame(X).head(2)"
      ],
      "metadata": {
        "colab": {
          "base_uri": "https://localhost:8080/",
          "height": 112
        },
        "id": "VdY3Bxm3d6i9",
        "outputId": "d7fa1c65-7b1e-4ee6-8f0c-97e974bb682f"
      },
      "execution_count": 23,
      "outputs": [
        {
          "output_type": "execute_result",
          "data": {
            "text/plain": [
              "          0         1         2         3         4         5         6  \\\n",
              "0  1.764831  1.579606  0.093808  0.341546  0.103202  0.745205  0.421736   \n",
              "1 -1.612963  0.709920 -0.277540 -0.301827 -0.693297 -0.045695  1.116862   \n",
              "\n",
              "          7         8         9  \n",
              "0 -0.461091 -0.710885 -0.761760  \n",
              "1  0.265971 -0.166048  0.714702  "
            ],
            "text/html": [
              "\n",
              "  <div id=\"df-97bbb47c-30ae-42a0-b9a9-ef480c81cb42\" class=\"colab-df-container\">\n",
              "    <div>\n",
              "<style scoped>\n",
              "    .dataframe tbody tr th:only-of-type {\n",
              "        vertical-align: middle;\n",
              "    }\n",
              "\n",
              "    .dataframe tbody tr th {\n",
              "        vertical-align: top;\n",
              "    }\n",
              "\n",
              "    .dataframe thead th {\n",
              "        text-align: right;\n",
              "    }\n",
              "</style>\n",
              "<table border=\"1\" class=\"dataframe\">\n",
              "  <thead>\n",
              "    <tr style=\"text-align: right;\">\n",
              "      <th></th>\n",
              "      <th>0</th>\n",
              "      <th>1</th>\n",
              "      <th>2</th>\n",
              "      <th>3</th>\n",
              "      <th>4</th>\n",
              "      <th>5</th>\n",
              "      <th>6</th>\n",
              "      <th>7</th>\n",
              "      <th>8</th>\n",
              "      <th>9</th>\n",
              "    </tr>\n",
              "  </thead>\n",
              "  <tbody>\n",
              "    <tr>\n",
              "      <th>0</th>\n",
              "      <td>1.764831</td>\n",
              "      <td>1.579606</td>\n",
              "      <td>0.093808</td>\n",
              "      <td>0.341546</td>\n",
              "      <td>0.103202</td>\n",
              "      <td>0.745205</td>\n",
              "      <td>0.421736</td>\n",
              "      <td>-0.461091</td>\n",
              "      <td>-0.710885</td>\n",
              "      <td>-0.761760</td>\n",
              "    </tr>\n",
              "    <tr>\n",
              "      <th>1</th>\n",
              "      <td>-1.612963</td>\n",
              "      <td>0.709920</td>\n",
              "      <td>-0.277540</td>\n",
              "      <td>-0.301827</td>\n",
              "      <td>-0.693297</td>\n",
              "      <td>-0.045695</td>\n",
              "      <td>1.116862</td>\n",
              "      <td>0.265971</td>\n",
              "      <td>-0.166048</td>\n",
              "      <td>0.714702</td>\n",
              "    </tr>\n",
              "  </tbody>\n",
              "</table>\n",
              "</div>\n",
              "    <div class=\"colab-df-buttons\">\n",
              "\n",
              "  <div class=\"colab-df-container\">\n",
              "    <button class=\"colab-df-convert\" onclick=\"convertToInteractive('df-97bbb47c-30ae-42a0-b9a9-ef480c81cb42')\"\n",
              "            title=\"Convert this dataframe to an interactive table.\"\n",
              "            style=\"display:none;\">\n",
              "\n",
              "  <svg xmlns=\"http://www.w3.org/2000/svg\" height=\"24px\" viewBox=\"0 -960 960 960\">\n",
              "    <path d=\"M120-120v-720h720v720H120Zm60-500h600v-160H180v160Zm220 220h160v-160H400v160Zm0 220h160v-160H400v160ZM180-400h160v-160H180v160Zm440 0h160v-160H620v160ZM180-180h160v-160H180v160Zm440 0h160v-160H620v160Z\"/>\n",
              "  </svg>\n",
              "    </button>\n",
              "\n",
              "  <style>\n",
              "    .colab-df-container {\n",
              "      display:flex;\n",
              "      gap: 12px;\n",
              "    }\n",
              "\n",
              "    .colab-df-convert {\n",
              "      background-color: #E8F0FE;\n",
              "      border: none;\n",
              "      border-radius: 50%;\n",
              "      cursor: pointer;\n",
              "      display: none;\n",
              "      fill: #1967D2;\n",
              "      height: 32px;\n",
              "      padding: 0 0 0 0;\n",
              "      width: 32px;\n",
              "    }\n",
              "\n",
              "    .colab-df-convert:hover {\n",
              "      background-color: #E2EBFA;\n",
              "      box-shadow: 0px 1px 2px rgba(60, 64, 67, 0.3), 0px 1px 3px 1px rgba(60, 64, 67, 0.15);\n",
              "      fill: #174EA6;\n",
              "    }\n",
              "\n",
              "    .colab-df-buttons div {\n",
              "      margin-bottom: 4px;\n",
              "    }\n",
              "\n",
              "    [theme=dark] .colab-df-convert {\n",
              "      background-color: #3B4455;\n",
              "      fill: #D2E3FC;\n",
              "    }\n",
              "\n",
              "    [theme=dark] .colab-df-convert:hover {\n",
              "      background-color: #434B5C;\n",
              "      box-shadow: 0px 1px 3px 1px rgba(0, 0, 0, 0.15);\n",
              "      filter: drop-shadow(0px 1px 2px rgba(0, 0, 0, 0.3));\n",
              "      fill: #FFFFFF;\n",
              "    }\n",
              "  </style>\n",
              "\n",
              "    <script>\n",
              "      const buttonEl =\n",
              "        document.querySelector('#df-97bbb47c-30ae-42a0-b9a9-ef480c81cb42 button.colab-df-convert');\n",
              "      buttonEl.style.display =\n",
              "        google.colab.kernel.accessAllowed ? 'block' : 'none';\n",
              "\n",
              "      async function convertToInteractive(key) {\n",
              "        const element = document.querySelector('#df-97bbb47c-30ae-42a0-b9a9-ef480c81cb42');\n",
              "        const dataTable =\n",
              "          await google.colab.kernel.invokeFunction('convertToInteractive',\n",
              "                                                    [key], {});\n",
              "        if (!dataTable) return;\n",
              "\n",
              "        const docLinkHtml = 'Like what you see? Visit the ' +\n",
              "          '<a target=\"_blank\" href=https://colab.research.google.com/notebooks/data_table.ipynb>data table notebook</a>'\n",
              "          + ' to learn more about interactive tables.';\n",
              "        element.innerHTML = '';\n",
              "        dataTable['output_type'] = 'display_data';\n",
              "        await google.colab.output.renderOutput(dataTable, element);\n",
              "        const docLink = document.createElement('div');\n",
              "        docLink.innerHTML = docLinkHtml;\n",
              "        element.appendChild(docLink);\n",
              "      }\n",
              "    </script>\n",
              "  </div>\n",
              "\n",
              "\n",
              "<div id=\"df-03d0e1f6-799c-41f9-a697-73122a301d8f\">\n",
              "  <button class=\"colab-df-quickchart\" onclick=\"quickchart('df-03d0e1f6-799c-41f9-a697-73122a301d8f')\"\n",
              "            title=\"Suggest charts\"\n",
              "            style=\"display:none;\">\n",
              "\n",
              "<svg xmlns=\"http://www.w3.org/2000/svg\" height=\"24px\"viewBox=\"0 0 24 24\"\n",
              "     width=\"24px\">\n",
              "    <g>\n",
              "        <path d=\"M19 3H5c-1.1 0-2 .9-2 2v14c0 1.1.9 2 2 2h14c1.1 0 2-.9 2-2V5c0-1.1-.9-2-2-2zM9 17H7v-7h2v7zm4 0h-2V7h2v10zm4 0h-2v-4h2v4z\"/>\n",
              "    </g>\n",
              "</svg>\n",
              "  </button>\n",
              "\n",
              "<style>\n",
              "  .colab-df-quickchart {\n",
              "      --bg-color: #E8F0FE;\n",
              "      --fill-color: #1967D2;\n",
              "      --hover-bg-color: #E2EBFA;\n",
              "      --hover-fill-color: #174EA6;\n",
              "      --disabled-fill-color: #AAA;\n",
              "      --disabled-bg-color: #DDD;\n",
              "  }\n",
              "\n",
              "  [theme=dark] .colab-df-quickchart {\n",
              "      --bg-color: #3B4455;\n",
              "      --fill-color: #D2E3FC;\n",
              "      --hover-bg-color: #434B5C;\n",
              "      --hover-fill-color: #FFFFFF;\n",
              "      --disabled-bg-color: #3B4455;\n",
              "      --disabled-fill-color: #666;\n",
              "  }\n",
              "\n",
              "  .colab-df-quickchart {\n",
              "    background-color: var(--bg-color);\n",
              "    border: none;\n",
              "    border-radius: 50%;\n",
              "    cursor: pointer;\n",
              "    display: none;\n",
              "    fill: var(--fill-color);\n",
              "    height: 32px;\n",
              "    padding: 0;\n",
              "    width: 32px;\n",
              "  }\n",
              "\n",
              "  .colab-df-quickchart:hover {\n",
              "    background-color: var(--hover-bg-color);\n",
              "    box-shadow: 0 1px 2px rgba(60, 64, 67, 0.3), 0 1px 3px 1px rgba(60, 64, 67, 0.15);\n",
              "    fill: var(--button-hover-fill-color);\n",
              "  }\n",
              "\n",
              "  .colab-df-quickchart-complete:disabled,\n",
              "  .colab-df-quickchart-complete:disabled:hover {\n",
              "    background-color: var(--disabled-bg-color);\n",
              "    fill: var(--disabled-fill-color);\n",
              "    box-shadow: none;\n",
              "  }\n",
              "\n",
              "  .colab-df-spinner {\n",
              "    border: 2px solid var(--fill-color);\n",
              "    border-color: transparent;\n",
              "    border-bottom-color: var(--fill-color);\n",
              "    animation:\n",
              "      spin 1s steps(1) infinite;\n",
              "  }\n",
              "\n",
              "  @keyframes spin {\n",
              "    0% {\n",
              "      border-color: transparent;\n",
              "      border-bottom-color: var(--fill-color);\n",
              "      border-left-color: var(--fill-color);\n",
              "    }\n",
              "    20% {\n",
              "      border-color: transparent;\n",
              "      border-left-color: var(--fill-color);\n",
              "      border-top-color: var(--fill-color);\n",
              "    }\n",
              "    30% {\n",
              "      border-color: transparent;\n",
              "      border-left-color: var(--fill-color);\n",
              "      border-top-color: var(--fill-color);\n",
              "      border-right-color: var(--fill-color);\n",
              "    }\n",
              "    40% {\n",
              "      border-color: transparent;\n",
              "      border-right-color: var(--fill-color);\n",
              "      border-top-color: var(--fill-color);\n",
              "    }\n",
              "    60% {\n",
              "      border-color: transparent;\n",
              "      border-right-color: var(--fill-color);\n",
              "    }\n",
              "    80% {\n",
              "      border-color: transparent;\n",
              "      border-right-color: var(--fill-color);\n",
              "      border-bottom-color: var(--fill-color);\n",
              "    }\n",
              "    90% {\n",
              "      border-color: transparent;\n",
              "      border-bottom-color: var(--fill-color);\n",
              "    }\n",
              "  }\n",
              "</style>\n",
              "\n",
              "  <script>\n",
              "    async function quickchart(key) {\n",
              "      const quickchartButtonEl =\n",
              "        document.querySelector('#' + key + ' button');\n",
              "      quickchartButtonEl.disabled = true;  // To prevent multiple clicks.\n",
              "      quickchartButtonEl.classList.add('colab-df-spinner');\n",
              "      try {\n",
              "        const charts = await google.colab.kernel.invokeFunction(\n",
              "            'suggestCharts', [key], {});\n",
              "      } catch (error) {\n",
              "        console.error('Error during call to suggestCharts:', error);\n",
              "      }\n",
              "      quickchartButtonEl.classList.remove('colab-df-spinner');\n",
              "      quickchartButtonEl.classList.add('colab-df-quickchart-complete');\n",
              "    }\n",
              "    (() => {\n",
              "      let quickchartButtonEl =\n",
              "        document.querySelector('#df-03d0e1f6-799c-41f9-a697-73122a301d8f button');\n",
              "      quickchartButtonEl.style.display =\n",
              "        google.colab.kernel.accessAllowed ? 'block' : 'none';\n",
              "    })();\n",
              "  </script>\n",
              "</div>\n",
              "\n",
              "    </div>\n",
              "  </div>\n"
            ],
            "application/vnd.google.colaboratory.intrinsic+json": {
              "type": "dataframe",
              "summary": "{\n  \"name\": \"pd\",\n  \"rows\": 2,\n  \"fields\": [\n    {\n      \"column\": 0,\n      \"properties\": {\n        \"dtype\": \"number\",\n        \"std\": 2.3884606699054953,\n        \"min\": -1.612962503160882,\n        \"max\": 1.7648309694141981,\n        \"num_unique_values\": 2,\n        \"samples\": [\n          -1.612962503160882,\n          1.7648309694141981\n        ],\n        \"semantic_type\": \"\",\n        \"description\": \"\"\n      }\n    },\n    {\n      \"column\": 1,\n      \"properties\": {\n        \"dtype\": \"number\",\n        \"std\": 0.6149605459354296,\n        \"min\": 0.7099203780166152,\n        \"max\": 1.5796059224028625,\n        \"num_unique_values\": 2,\n        \"samples\": [\n          0.7099203780166152,\n          1.5796059224028625\n        ],\n        \"semantic_type\": \"\",\n        \"description\": \"\"\n      }\n    },\n    {\n      \"column\": 2,\n      \"properties\": {\n        \"dtype\": \"number\",\n        \"std\": 0.26258219612536676,\n        \"min\": -0.2775395018214235,\n        \"max\": 0.09380780117678213,\n        \"num_unique_values\": 2,\n        \"samples\": [\n          -0.2775395018214235,\n          0.09380780117678213\n        ],\n        \"semantic_type\": \"\",\n        \"description\": \"\"\n      }\n    },\n    {\n      \"column\": 3,\n      \"properties\": {\n        \"dtype\": \"number\",\n        \"std\": 0.45493310730960745,\n        \"min\": -0.3018265593833941,\n        \"max\": 0.3415460109463873,\n        \"num_unique_values\": 2,\n        \"samples\": [\n          -0.3018265593833941,\n          0.3415460109463873\n        ],\n        \"semantic_type\": \"\",\n        \"description\": \"\"\n      }\n    },\n    {\n      \"column\": 4,\n      \"properties\": {\n        \"dtype\": \"number\",\n        \"std\": 0.5632094428765209,\n        \"min\": -0.6932966799170912,\n        \"max\": 0.10320175265547964,\n        \"num_unique_values\": 2,\n        \"samples\": [\n          -0.6932966799170912,\n          0.10320175265547964\n        ],\n        \"semantic_type\": \"\",\n        \"description\": \"\"\n      }\n    },\n    {\n      \"column\": 5,\n      \"properties\": {\n        \"dtype\": \"number\",\n        \"std\": 0.5592510630962254,\n        \"min\": -0.04569543656354854,\n        \"max\": 0.7452050016387051,\n        \"num_unique_values\": 2,\n        \"samples\": [\n          -0.04569543656354854,\n          0.7452050016387051\n        ],\n        \"semantic_type\": \"\",\n        \"description\": \"\"\n      }\n    },\n    {\n      \"column\": 6,\n      \"properties\": {\n        \"dtype\": \"number\",\n        \"std\": 0.49152877366962794,\n        \"min\": 0.4217358313009199,\n        \"max\": 1.1168624893211232,\n        \"num_unique_values\": 2,\n        \"samples\": [\n          1.1168624893211232,\n          0.4217358313009199\n        ],\n        \"semantic_type\": \"\",\n        \"description\": \"\"\n      }\n    },\n    {\n      \"column\": 7,\n      \"properties\": {\n        \"dtype\": \"number\",\n        \"std\": 0.5141104897563611,\n        \"min\": -0.46109064272092737,\n        \"max\": 0.26597138445079266,\n        \"num_unique_values\": 2,\n        \"samples\": [\n          0.26597138445079266,\n          -0.46109064272092737\n        ],\n        \"semantic_type\": \"\",\n        \"description\": \"\"\n      }\n    },\n    {\n      \"column\": 8,\n      \"properties\": {\n        \"dtype\": \"number\",\n        \"std\": 0.3852579266137966,\n        \"min\": -0.7108848142856333,\n        \"max\": -0.16604782945666363,\n        \"num_unique_values\": 2,\n        \"samples\": [\n          -0.16604782945666363,\n          -0.7108848142856333\n        ],\n        \"semantic_type\": \"\",\n        \"description\": \"\"\n      }\n    },\n    {\n      \"column\": 9,\n      \"properties\": {\n        \"dtype\": \"number\",\n        \"std\": 1.0440163744274724,\n        \"min\": -0.7617601251889006,\n        \"max\": 0.7147019908660182,\n        \"num_unique_values\": 2,\n        \"samples\": [\n          0.7147019908660182,\n          -0.7617601251889006\n        ],\n        \"semantic_type\": \"\",\n        \"description\": \"\"\n      }\n    }\n  ]\n}"
            }
          },
          "metadata": {},
          "execution_count": 23
        }
      ]
    },
    {
      "cell_type": "code",
      "source": [
        "X.mean(axis=0)"
      ],
      "metadata": {
        "colab": {
          "base_uri": "https://localhost:8080/"
        },
        "id": "c3Zk9tSrd6gd",
        "outputId": "2f12cb8f-2556-4b7d-ec39-14fbde8a866d"
      },
      "execution_count": 24,
      "outputs": [
        {
          "output_type": "execute_result",
          "data": {
            "text/plain": [
              "array([-2.75335310e-17,  5.82867088e-17, -1.06581410e-17, -1.39888101e-17,\n",
              "        2.49800181e-18,  4.28546088e-17,  1.43635104e-17,  1.46549439e-17,\n",
              "        7.14983628e-17, -1.07691633e-16])"
            ]
          },
          "metadata": {},
          "execution_count": 24
        }
      ]
    },
    {
      "cell_type": "code",
      "source": [
        "X.std(axis=0)"
      ],
      "metadata": {
        "colab": {
          "base_uri": "https://localhost:8080/"
        },
        "id": "PFnLTSJId6d1",
        "outputId": "dc470836-21c2-4ec7-e9f2-8d225d6e8dcb"
      },
      "execution_count": 25,
      "outputs": [
        {
          "output_type": "execute_result",
          "data": {
            "text/plain": [
              "array([1., 1., 1., 1., 1., 1., 1., 1., 1., 1.])"
            ]
          },
          "metadata": {},
          "execution_count": 25
        }
      ]
    },
    {
      "cell_type": "code",
      "source": [
        "# Visualise y as function of each feature (column)\n",
        "\n",
        "# target (y) vs each features\n",
        "for f in range(0, 10):\n",
        "    plt.subplot(4, 3, f+1) # f+1 is the sub-plot numbers (starts from 1)\n",
        "    plt.scatter(X[:,f], y) # plot each feature columns\n",
        "plt.show()"
      ],
      "metadata": {
        "colab": {
          "base_uri": "https://localhost:8080/",
          "height": 430
        },
        "id": "NwLOG1F4d6TH",
        "outputId": "88f967f2-919e-4703-8135-cd8a25f00386"
      },
      "execution_count": 26,
      "outputs": [
        {
          "output_type": "display_data",
          "data": {
            "text/plain": [
              "<Figure size 640x480 with 10 Axes>"
            ],
            "image/png": "[encoded data removed]"
          },
          "metadata": {}
        }
      ]
    },
    {
      "cell_type": "markdown",
      "source": [
        "From the plots we can see some plots of target vs feature-column is not that infomative as they are neither going up or down.\n",
        "\n",
        "So, their weights will be close to or equal 0.\n",
        "\n"
      ],
      "metadata": {
        "id": "k1eH99xOji29"
      }
    },
    {
      "cell_type": "code",
      "source": [
        "# Train Test Split\n",
        "XT, Xt, yT, yt = train_test_split(X, y, test_size=0.3, shuffle=False, random_state=0)\n",
        "\n",
        "print(XT.shape, yT.shape) # train samples\n",
        "print(Xt.shape, yt.shape) # test samples"
      ],
      "metadata": {
        "colab": {
          "base_uri": "https://localhost:8080/"
        },
        "id": "mmBb2LG-haqr",
        "outputId": "8ce42abb-6ea1-41d5-ea88-d5b4eb0b20a6"
      },
      "execution_count": 28,
      "outputs": [
        {
          "output_type": "stream",
          "name": "stdout",
          "text": [
            "(350, 10) (350,)\n",
            "(150, 10) (150,)\n"
          ]
        }
      ]
    },
    {
      "cell_type": "code",
      "source": [
        "# Util function\n",
        "def preprocess(X):\n",
        "    # add a column of 1s in X as 0th column\n",
        "    if X.shape[1] == n_features:\n",
        "        m = X.shape[0]\n",
        "        ones = np.ones((m,1))\n",
        "        X = np.hstack((ones,X))\n",
        "    return X\n",
        ""
      ],
      "metadata": {
        "id": "qQ2-80fEhamC"
      },
      "execution_count": 29,
      "outputs": []
    },
    {
      "cell_type": "code",
      "source": [
        "# step-1: Hypothesis (prediction)\n",
        "\n",
        "def hypothesis(X, theta): # features (x) and parameters (Q/theta)\n",
        "    return np.dot(X,theta) # X = (m, f).theta = (f, 1) = (m, 1)"
      ],
      "metadata": {
        "id": "HFXCuTFBhajD"
      },
      "execution_count": 30,
      "outputs": []
    },
    {
      "cell_type": "code",
      "source": [
        "# step-2: Loss Function\n",
        "\n",
        "def loss(X, y, theta):\n",
        "    yp = hypothesis(X, theta) # prediction (m, 1)\n",
        "    error = np.mean((yp-y)**2) # MSE (scaler value)\n",
        "    return error # Scaler value"
      ],
      "metadata": {
        "id": "V1kQ342GhaeC"
      },
      "execution_count": 45,
      "outputs": []
    },
    {
      "cell_type": "code",
      "source": [
        "# step - 3: Gradient Descent - 1 (partial differentation)\n",
        "def gradient(X, y, theta):\n",
        "    yp = hypothesis(X, theta) # (m, 1)\n",
        "    grad = np.dot(X.T, (yp-y)) # (f, m).(m, 1) = (f, 1)\n",
        "    m = X.shape[0] # no. of samples\n",
        "    return grad/m #  (f, 1)\n",
        "\n",
        "# The derivation is on tablet (GoodNote)"
      ],
      "metadata": {
        "id": "KWga9G53habb"
      },
      "execution_count": 36,
      "outputs": []
    },
    {
      "cell_type": "code",
      "source": [
        "# step - 3: Gradient Descent - 2 (Train)\n",
        "\n",
        "def train(X, y, learning_rate=0.1, max_iters=100):\n",
        "    n = X.shape[1] # features\n",
        "    theta = np.random.randn(n) # random starting theta (f, 1)\n",
        "    error_list = []\n",
        "\n",
        "    for i in range(max_iters):\n",
        "        e = loss(X, y, theta) # loss (MSE) - batch gradient in this case (scaler)\n",
        "        error_list.append(e)\n",
        "\n",
        "        grad = gradient(X, y, theta) # differentiation (f, 1)\n",
        "\n",
        "        theta = theta - learning_rate*grad # (f, 1) - (f, 1) = (f, 1)\n",
        "\n",
        "    plt.plot(error_list)\n",
        "    # print(error_list)\n",
        "    return theta"
      ],
      "metadata": {
        "id": "OXMThKf7t8GA"
      },
      "execution_count": 48,
      "outputs": []
    },
    {
      "cell_type": "code",
      "source": [
        "XT = preprocess(XT)\n",
        "Xt = preprocess(Xt)\n",
        "\n",
        "print(XT.shape, Xt.shape)\n",
        "\n",
        "theta = train(XT,yT)\n",
        "print(theta)"
      ],
      "metadata": {
        "colab": {
          "base_uri": "https://localhost:8080/",
          "height": 499
        },
        "id": "2lhwyIcYt8C_",
        "outputId": "6580ef95-33db-45a5-97f6-1223215cd639"
      },
      "execution_count": 49,
      "outputs": [
        {
          "output_type": "stream",
          "name": "stdout",
          "text": [
            "(350, 11) (150, 11)\n",
            "[-3.83056390e+00 -2.14450779e-02  6.04372112e+01  1.06956695e+01\n",
            "  6.35756270e+01 -3.59909348e-02  7.43414308e-02  4.09264016e+01\n",
            "  4.15154888e-02  6.08277633e-02  2.53388532e+01]\n"
          ]
        },
        {
          "output_type": "display_data",
          "data": {
            "text/plain": [
              "<Figure size 640x480 with 1 Axes>"
            ],
            "image/png": "[encoded data removed]"
          },
          "metadata": {}
        }
      ]
    },
    {
      "cell_type": "code",
      "source": [
        "print(theta.shape)\n",
        "\n",
        "gradient(XT, yT, theta).shape"
      ],
      "metadata": {
        "colab": {
          "base_uri": "https://localhost:8080/"
        },
        "id": "PONjUQ_Ut7__",
        "outputId": "b8812fd3-0cef-4566-f4dd-08bc897c45d1"
      },
      "execution_count": 50,
      "outputs": [
        {
          "output_type": "stream",
          "name": "stdout",
          "text": [
            "(11,)\n"
          ]
        },
        {
          "output_type": "execute_result",
          "data": {
            "text/plain": [
              "(11,)"
            ]
          },
          "metadata": {},
          "execution_count": 50
        }
      ]
    },
    {
      "cell_type": "code",
      "source": [],
      "metadata": {
        "id": "-ncGUVw4t79A"
      },
      "execution_count": null,
      "outputs": []
    }
  ]
}